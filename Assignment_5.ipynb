{
 "cells": [
  {
   "cell_type": "markdown",
   "metadata": {
    "id": "i_GcJlVrDgBk"
   },
   "source": [
    "## Implement the Continuous Bag of Words (CBOW) Model. Stages can be:\n",
    "a. Data preparation<br>\n",
    "b. Generate training data<br>\n",
    "c. Train model<br>\n",
    "d. Output<br>"
   ]
  },
  {
   "cell_type": "code",
   "execution_count": 1,
   "metadata": {
    "id": "V51q50EbF-T9"
   },
   "outputs": [],
   "source": [
    "# Importing the required libraries for the CBOW model\n",
    "from keras.preprocessing import text\n",
    "from tensorflow.keras.utils import to_categorical\n",
    "from keras.preprocessing import sequence\n",
    "from keras.utils import pad_sequences\n",
    "import numpy as np\n",
    "import pandas as pd"
   ]
  },
  {
   "cell_type": "code",
   "execution_count": 2,
   "metadata": {
    "id": "wBUwYdBJElVz"
   },
   "outputs": [],
   "source": [
    "# Sample data for training the CBOW model\n",
    "data = \"\"\"Deep learning (also known as deep structured learning) is part of a broader family of machine learning methods based on artificial neural networks with representation learning. Learning can be supervised, semi-supervised or unsupervised.\n",
    "Deep-learning architectures such as deep neural networks, deep belief networks, deep reinforcement learning, recurrent neural networks, convolutional neural networks and Transformers have been applied to fields including computer vision, speech recognition, natural language processing, machine translation, bioinformatics, drug design, medical image analysis, climate science, material inspection and board game programs, where they have produced results comparable to and in some cases surpassing human expert performance.\n",
    "\"\"\"\n",
    "\n",
    "# Split the text data into words\n",
    "dl_data = data.split()\n"
   ]
  },
  {
   "cell_type": "code",
   "execution_count": 3,
   "metadata": {
    "colab": {
     "base_uri": "https://localhost:8080/"
    },
    "executionInfo": {
     "elapsed": 30,
     "status": "ok",
     "timestamp": 1698432983515,
     "user": {
      "displayName": "Ranjeet Kumbhar",
      "userId": "11440510226724121904"
     },
     "user_tz": -330
    },
    "id": "JSD-2idwaNDB",
    "outputId": "dae0ac0b-2eee-486b-f6e1-697b8ea08f85"
   },
   "outputs": [
    {
     "name": "stdout",
     "output_type": "stream",
     "text": [
      "['Deep', 'learning', '(also', 'known', 'as', 'deep', 'structured', 'learning)', 'is', 'part', 'of', 'a', 'broader', 'family', 'of', 'machine', 'learning', 'methods', 'based', 'on', 'artificial', 'neural', 'networks', 'with', 'representation', 'learning.', 'Learning', 'can', 'be', 'supervised,', 'semi-supervised', 'or', 'unsupervised.', 'Deep-learning', 'architectures', 'such', 'as', 'deep', 'neural', 'networks,', 'deep', 'belief', 'networks,', 'deep', 'reinforcement', 'learning,', 'recurrent', 'neural', 'networks,', 'convolutional', 'neural', 'networks', 'and', 'Transformers', 'have', 'been', 'applied', 'to', 'fields', 'including', 'computer', 'vision,', 'speech', 'recognition,', 'natural', 'language', 'processing,', 'machine', 'translation,', 'bioinformatics,', 'drug', 'design,', 'medical', 'image', 'analysis,', 'climate', 'science,', 'material', 'inspection', 'and', 'board', 'game', 'programs,', 'where', 'they', 'have', 'produced', 'results', 'comparable', 'to', 'and', 'in', 'some', 'cases', 'surpassing', 'human', 'expert', 'performance.']\n"
     ]
    }
   ],
   "source": [
    "print(dl_data)"
   ]
  },
  {
   "cell_type": "code",
   "execution_count": 4,
   "metadata": {
    "colab": {
     "base_uri": "https://localhost:8080/"
    },
    "executionInfo": {
     "elapsed": 25,
     "status": "ok",
     "timestamp": 1698432983515,
     "user": {
      "displayName": "Ranjeet Kumbhar",
      "userId": "11440510226724121904"
     },
     "user_tz": -330
    },
    "id": "celNk9LmEvm8",
    "outputId": "7822b3ae-46d3-4c72-d932-4dca6ff1e216"
   },
   "outputs": [
    {
     "name": "stdout",
     "output_type": "stream",
     "text": [
      "Vocabulary Size: 75\n",
      "Vocabulary Sample: [('learning', 1), ('deep', 2), ('networks', 3), ('neural', 4), ('and', 5), ('as', 6), ('of', 7), ('machine', 8), ('supervised', 9), ('have', 10)]\n"
     ]
    }
   ],
   "source": [
    "# Tokenization and vocabulary preparation\n",
    "tokenizer = text.Tokenizer()\n",
    "tokenizer.fit_on_texts(dl_data)  # Tokenize the words in your data\n",
    "word2id = tokenizer.word_index  # Create a dictionary mapping words to unique IDs\n",
    "\n",
    "# Add a special 'PAD' token with ID 0 for padding\n",
    "word2id['PAD'] = 0\n",
    "id2word = {v: k for k, v in word2id.items()}  # Create a reverse dictionary for mapping IDs to words\n",
    "\n",
    "# Convert the words in your data to their corresponding IDs\n",
    "wids = [[word2id[w] for w in text.text_to_word_sequence(doc)] for doc in dl_data]\n",
    "\n",
    "# Get the vocabulary size, embedding size, and window size\n",
    "vocab_size = len(word2id)\n",
    "embed_size = 100\n",
    "window_size = 2\n",
    "\n",
    "# Print the vocabulary size and a sample of the word-to-ID mapping\n",
    "print('Vocabulary Size:', vocab_size)\n",
    "print('Vocabulary Sample:', list(word2id.items())[:10])"
   ]
  },
  {
   "cell_type": "code",
   "execution_count": 5,
   "metadata": {
    "id": "AAxNYDanInQC"
   },
   "outputs": [],
   "source": [
    "# Function to generate (context word, target/label word) pairs\n",
    "def generate_context_word_pairs(corpus, window_size, vocab_size):\n",
    "    context_length = window_size * 2\n",
    "    for words in corpus:\n",
    "        sentence_length = len(words)\n",
    "        for index, word in enumerate(words):\n",
    "            context_words = []\n",
    "            label_word = []\n",
    "            start = index - window_size\n",
    "            end = index + window_size + 1\n",
    "\n",
    "            context_words.append([words[i] for i in range(start, end) if 0 <= i < sentence_length and i != index])\n",
    "            label_word.append(word)\n",
    "\n",
    "            x = pad_sequences(context_words, maxlen=context_length)  # Pad the context words\n",
    "            y = to_categorical(label_word, vocab_size)  # Create a one-hot encoded label\n",
    "            yield (x, y)\n",
    "\n",
    "# Iterate through the generated (context, target) pairs\n",
    "i = 0\n",
    "for x, y in generate_context_word_pairs(corpus=wids, window_size=window_size, vocab_size=vocab_size):\n",
    "    if 0 not in x[0]:\n",
    "        # Uncomment the line below to print context and target words\n",
    "        # print('Context (X):', [id2word[w] for w in x[0]], '-> Target (Y):', id2word[np.argwhere(y[0])[0][0]])\n",
    "\n",
    "        if i == 10:\n",
    "            break\n",
    "        i += 1"
   ]
  },
  {
   "cell_type": "code",
   "execution_count": 6,
   "metadata": {
    "colab": {
     "base_uri": "https://localhost:8080/"
    },
    "executionInfo": {
     "elapsed": 21,
     "status": "ok",
     "timestamp": 1698432983516,
     "user": {
      "displayName": "Ranjeet Kumbhar",
      "userId": "11440510226724121904"
     },
     "user_tz": -330
    },
    "id": "Rb5dNmoZKZBv",
    "outputId": "0c427fdf-1c19-487d-a4d8-265e3a1fd4ae"
   },
   "outputs": [
    {
     "name": "stdout",
     "output_type": "stream",
     "text": [
      "Model: \"sequential\"\n",
      "_________________________________________________________________\n",
      " Layer (type)                Output Shape              Param #   \n",
      "=================================================================\n",
      " embedding (Embedding)       (None, 4, 100)            7500      \n",
      "                                                                 \n",
      " lambda (Lambda)             (None, 100)               0         \n",
      "                                                                 \n",
      " dense (Dense)               (None, 75)                7575      \n",
      "                                                                 \n",
      "=================================================================\n",
      "Total params: 15075 (58.89 KB)\n",
      "Trainable params: 15075 (58.89 KB)\n",
      "Non-trainable params: 0 (0.00 Byte)\n",
      "_________________________________________________________________\n",
      "None\n"
     ]
    }
   ],
   "source": [
    "# Import necessary libraries for building the model\n",
    "import keras.backend as K\n",
    "from keras.models import Sequential\n",
    "from keras.layers import Dense, Embedding, Lambda\n",
    "\n",
    "# Create a Sequential model for CBOW\n",
    "cbow = Sequential()\n",
    "\n",
    "# Add an Embedding layer to convert word IDs to word vectors\n",
    "cbow.add(Embedding(input_dim=vocab_size, output_dim=embed_size, input_length=window_size * 2))\n",
    "\n",
    "# Add a Lambda layer to compute the mean of word vectors\n",
    "cbow.add(Lambda(lambda x: K.mean(x, axis=1), output_shape=(embed_size,)))\n",
    "\n",
    "# Add a Dense layer for the output with softmax activation\n",
    "cbow.add(Dense(vocab_size, activation='softmax'))\n",
    "\n",
    "# Compile the model with appropriate loss and optimizer\n",
    "cbow.compile(loss='categorical_crossentropy', optimizer='rmsprop')\n",
    "\n",
    "# Print a summary of the model's architecture\n",
    "print(cbow.summary())\n"
   ]
  },
  {
   "cell_type": "code",
   "execution_count": 7,
   "metadata": {
    "colab": {
     "base_uri": "https://localhost:8080/"
    },
    "executionInfo": {
     "elapsed": 8594,
     "status": "ok",
     "timestamp": 1698432992096,
     "user": {
      "displayName": "Ranjeet Kumbhar",
      "userId": "11440510226724121904"
     },
     "user_tz": -330
    },
    "id": "xs12C3MDK1q4",
    "outputId": "cd3a88eb-1131-4e1d-9669-201e352ed42a"
   },
   "outputs": [
    {
     "name": "stdout",
     "output_type": "stream",
     "text": [
      "Epoch: 1 \tLoss: 433.9253602027893\n",
      "\n",
      "Epoch: 2 \tLoss: 429.5948951244354\n",
      "\n",
      "Epoch: 3 \tLoss: 426.49160838127136\n",
      "\n",
      "Epoch: 4 \tLoss: 423.4533016681671\n",
      "\n",
      "Epoch: 5 \tLoss: 420.9225571155548\n",
      "\n"
     ]
    }
   ],
   "source": [
    "# Training the CBOW model and storing loss values in a list\n",
    "loss_values = []\n",
    "\n",
    "for epoch in range(1, 6):\n",
    "    loss = 0.\n",
    "    i = 0\n",
    "\n",
    "    # Iterate through the generated (context, target) pairs\n",
    "    for x, y in generate_context_word_pairs(corpus=wids, window_size=window_size, vocab_size=vocab_size):\n",
    "        i += 1\n",
    "        loss += cbow.train_on_batch(x, y)  # Train the model on a batch\n",
    "\n",
    "        # Print progress after processing a certain number of pairs\n",
    "        if i % 100000 == 0:\n",
    "            print('Processed {} (context, word) pairs'.format(i))\n",
    "    loss_values.append(loss)\n",
    "    # Print the loss at the end of each epoch\n",
    "    print('Epoch:', epoch, '\\tLoss:', loss)\n",
    "    print()"
   ]
  },
  {
   "cell_type": "code",
   "execution_count": 8,
   "metadata": {
    "colab": {
     "base_uri": "https://localhost:8080/",
     "height": 472
    },
    "executionInfo": {
     "elapsed": 52,
     "status": "ok",
     "timestamp": 1698432992097,
     "user": {
      "displayName": "Ranjeet Kumbhar",
      "userId": "11440510226724121904"
     },
     "user_tz": -330
    },
    "id": "Wub3I2kVcqFU",
    "outputId": "c585d112-d3d4-46e4-b930-e473d1066c4a"
   },
   "outputs": [
    {
     "data": {
      "image/png": "[encoded data removed]",
      "text/plain": [
       "<Figure size 640x480 with 1 Axes>"
      ]
     },
     "metadata": {},
     "output_type": "display_data"
    }
   ],
   "source": [
    "import matplotlib.pyplot as plt\n",
    "\n",
    "# Create a list of epochs\n",
    "epochs = range(1, len(loss_values) + 1)\n",
    "\n",
    "# Plot the loss curve\n",
    "plt.plot(epochs, loss_values, marker='o')\n",
    "plt.title('Loss Curve')\n",
    "plt.xlabel('Epoch')\n",
    "plt.ylabel('Loss')\n",
    "plt.grid(True)\n",
    "plt.show()\n"
   ]
  },
  {
   "cell_type": "code",
   "execution_count": 9,
   "metadata": {
    "colab": {
     "base_uri": "https://localhost:8080/",
     "height": 273
    },
    "executionInfo": {
     "elapsed": 20,
     "status": "ok",
     "timestamp": 1698432992097,
     "user": {
      "displayName": "Ranjeet Kumbhar",
      "userId": "11440510226724121904"
     },
     "user_tz": -330
    },
    "id": "TZ3_QGKVK6Tj",
    "outputId": "55263fc6-18f2-4085-c0b8-3137be2eac2c"
   },
   "outputs": [
    {
     "name": "stdout",
     "output_type": "stream",
     "text": [
      "(74, 100)\n"
     ]
    },
    {
     "data": {
      "text/html": [
       "<div>\n",
       "<style scoped>\n",
       "    .dataframe tbody tr th:only-of-type {\n",
       "        vertical-align: middle;\n",
       "    }\n",
       "\n",
       "    .dataframe tbody tr th {\n",
       "        vertical-align: top;\n",
       "    }\n",
       "\n",
       "    .dataframe thead th {\n",
       "        text-align: right;\n",
       "    }\n",
       "</style>\n",
       "<table border=\"1\" class=\"dataframe\">\n",
       "  <thead>\n",
       "    <tr style=\"text-align: right;\">\n",
       "      <th></th>\n",
       "      <th>0</th>\n",
       "      <th>1</th>\n",
       "      <th>2</th>\n",
       "      <th>3</th>\n",
       "      <th>4</th>\n",
       "      <th>5</th>\n",
       "      <th>6</th>\n",
       "      <th>7</th>\n",
       "      <th>8</th>\n",
       "      <th>9</th>\n",
       "      <th>...</th>\n",
       "      <th>90</th>\n",
       "      <th>91</th>\n",
       "      <th>92</th>\n",
       "      <th>93</th>\n",
       "      <th>94</th>\n",
       "      <th>95</th>\n",
       "      <th>96</th>\n",
       "      <th>97</th>\n",
       "      <th>98</th>\n",
       "      <th>99</th>\n",
       "    </tr>\n",
       "  </thead>\n",
       "  <tbody>\n",
       "    <tr>\n",
       "      <th>deep</th>\n",
       "      <td>0.040847</td>\n",
       "      <td>0.028667</td>\n",
       "      <td>-0.036142</td>\n",
       "      <td>-0.038450</td>\n",
       "      <td>-0.040024</td>\n",
       "      <td>0.048101</td>\n",
       "      <td>0.043897</td>\n",
       "      <td>0.038592</td>\n",
       "      <td>0.000729</td>\n",
       "      <td>-0.028606</td>\n",
       "      <td>...</td>\n",
       "      <td>0.009733</td>\n",
       "      <td>-0.006366</td>\n",
       "      <td>-0.015195</td>\n",
       "      <td>0.032912</td>\n",
       "      <td>0.022785</td>\n",
       "      <td>0.021778</td>\n",
       "      <td>0.060540</td>\n",
       "      <td>-0.041378</td>\n",
       "      <td>0.000900</td>\n",
       "      <td>0.050672</td>\n",
       "    </tr>\n",
       "    <tr>\n",
       "      <th>networks</th>\n",
       "      <td>-0.029222</td>\n",
       "      <td>-0.023855</td>\n",
       "      <td>-0.004879</td>\n",
       "      <td>-0.021689</td>\n",
       "      <td>-0.030734</td>\n",
       "      <td>0.021619</td>\n",
       "      <td>-0.010975</td>\n",
       "      <td>0.014708</td>\n",
       "      <td>-0.008544</td>\n",
       "      <td>-0.003581</td>\n",
       "      <td>...</td>\n",
       "      <td>0.023054</td>\n",
       "      <td>0.014002</td>\n",
       "      <td>-0.000192</td>\n",
       "      <td>0.034973</td>\n",
       "      <td>-0.011134</td>\n",
       "      <td>-0.032823</td>\n",
       "      <td>-0.055047</td>\n",
       "      <td>-0.036457</td>\n",
       "      <td>-0.026590</td>\n",
       "      <td>-0.017597</td>\n",
       "    </tr>\n",
       "    <tr>\n",
       "      <th>neural</th>\n",
       "      <td>-0.033569</td>\n",
       "      <td>-0.000257</td>\n",
       "      <td>0.000675</td>\n",
       "      <td>0.015352</td>\n",
       "      <td>0.032361</td>\n",
       "      <td>-0.001026</td>\n",
       "      <td>0.043416</td>\n",
       "      <td>0.049146</td>\n",
       "      <td>-0.003732</td>\n",
       "      <td>0.046347</td>\n",
       "      <td>...</td>\n",
       "      <td>-0.005114</td>\n",
       "      <td>-0.013759</td>\n",
       "      <td>0.006350</td>\n",
       "      <td>0.006874</td>\n",
       "      <td>0.012465</td>\n",
       "      <td>-0.013887</td>\n",
       "      <td>-0.024852</td>\n",
       "      <td>-0.049820</td>\n",
       "      <td>0.011504</td>\n",
       "      <td>-0.019815</td>\n",
       "    </tr>\n",
       "    <tr>\n",
       "      <th>and</th>\n",
       "      <td>-0.039172</td>\n",
       "      <td>-0.036316</td>\n",
       "      <td>-0.009093</td>\n",
       "      <td>-0.027568</td>\n",
       "      <td>-0.015197</td>\n",
       "      <td>-0.042217</td>\n",
       "      <td>-0.000870</td>\n",
       "      <td>-0.040628</td>\n",
       "      <td>-0.005396</td>\n",
       "      <td>-0.048397</td>\n",
       "      <td>...</td>\n",
       "      <td>-0.005966</td>\n",
       "      <td>-0.010177</td>\n",
       "      <td>0.018878</td>\n",
       "      <td>0.043157</td>\n",
       "      <td>0.038868</td>\n",
       "      <td>-0.018551</td>\n",
       "      <td>-0.038826</td>\n",
       "      <td>-0.018466</td>\n",
       "      <td>-0.005692</td>\n",
       "      <td>-0.008886</td>\n",
       "    </tr>\n",
       "    <tr>\n",
       "      <th>as</th>\n",
       "      <td>-0.032609</td>\n",
       "      <td>0.035872</td>\n",
       "      <td>-0.012220</td>\n",
       "      <td>0.019206</td>\n",
       "      <td>0.014103</td>\n",
       "      <td>-0.038768</td>\n",
       "      <td>-0.007729</td>\n",
       "      <td>0.010426</td>\n",
       "      <td>0.042482</td>\n",
       "      <td>0.045804</td>\n",
       "      <td>...</td>\n",
       "      <td>-0.013823</td>\n",
       "      <td>-0.012800</td>\n",
       "      <td>0.024142</td>\n",
       "      <td>-0.024739</td>\n",
       "      <td>0.033432</td>\n",
       "      <td>0.049356</td>\n",
       "      <td>0.010497</td>\n",
       "      <td>0.027557</td>\n",
       "      <td>-0.041934</td>\n",
       "      <td>0.003731</td>\n",
       "    </tr>\n",
       "  </tbody>\n",
       "</table>\n",
       "<p>5 rows × 100 columns</p>\n",
       "</div>"
      ],
      "text/plain": [
       "                0         1         2         3         4         5   \\\n",
       "deep      0.040847  0.028667 -0.036142 -0.038450 -0.040024  0.048101   \n",
       "networks -0.029222 -0.023855 -0.004879 -0.021689 -0.030734  0.021619   \n",
       "neural   -0.033569 -0.000257  0.000675  0.015352  0.032361 -0.001026   \n",
       "and      -0.039172 -0.036316 -0.009093 -0.027568 -0.015197 -0.042217   \n",
       "as       -0.032609  0.035872 -0.012220  0.019206  0.014103 -0.038768   \n",
       "\n",
       "                6         7         8         9   ...        90        91  \\\n",
       "deep      0.043897  0.038592  0.000729 -0.028606  ...  0.009733 -0.006366   \n",
       "networks -0.010975  0.014708 -0.008544 -0.003581  ...  0.023054  0.014002   \n",
       "neural    0.043416  0.049146 -0.003732  0.046347  ... -0.005114 -0.013759   \n",
       "and      -0.000870 -0.040628 -0.005396 -0.048397  ... -0.005966 -0.010177   \n",
       "as       -0.007729  0.010426  0.042482  0.045804  ... -0.013823 -0.012800   \n",
       "\n",
       "                92        93        94        95        96        97  \\\n",
       "deep     -0.015195  0.032912  0.022785  0.021778  0.060540 -0.041378   \n",
       "networks -0.000192  0.034973 -0.011134 -0.032823 -0.055047 -0.036457   \n",
       "neural    0.006350  0.006874  0.012465 -0.013887 -0.024852 -0.049820   \n",
       "and       0.018878  0.043157  0.038868 -0.018551 -0.038826 -0.018466   \n",
       "as        0.024142 -0.024739  0.033432  0.049356  0.010497  0.027557   \n",
       "\n",
       "                98        99  \n",
       "deep      0.000900  0.050672  \n",
       "networks -0.026590 -0.017597  \n",
       "neural    0.011504 -0.019815  \n",
       "and      -0.005692 -0.008886  \n",
       "as       -0.041934  0.003731  \n",
       "\n",
       "[5 rows x 100 columns]"
      ]
     },
     "execution_count": 9,
     "metadata": {},
     "output_type": "execute_result"
    }
   ],
   "source": [
    "# Get the word embedding weights from the trained CBOW model\n",
    "weights = cbow.get_weights()[0]\n",
    "\n",
    "# Exclude the first row, which corresponds to the 'PAD' token\n",
    "weights = weights[1:]\n",
    "\n",
    "# Print the shape of the word embedding weights\n",
    "print(weights.shape)\n",
    "\n",
    "# Create a DataFrame to display the word embeddings with word labels\n",
    "word_embeddings_df = pd.DataFrame(weights, index=list(id2word.values())[1:])\n",
    "word_embeddings_df.head()"
   ]
  },
  {
   "cell_type": "code",
   "execution_count": 10,
   "metadata": {
    "colab": {
     "base_uri": "https://localhost:8080/"
    },
    "executionInfo": {
     "elapsed": 886,
     "status": "ok",
     "timestamp": 1698432992969,
     "user": {
      "displayName": "Ranjeet Kumbhar",
      "userId": "11440510226724121904"
     },
     "user_tz": -330
    },
    "id": "UFs2IAn_LAYS",
    "outputId": "761f2eae-4b6d-475a-d5d7-e405dbf5eb53"
   },
   "outputs": [
    {
     "name": "stdout",
     "output_type": "stream",
     "text": [
      "(74, 74)\n"
     ]
    },
    {
     "data": {
      "text/plain": [
       "{'deep': ['including', 'known', 'programs', 'performance', 'transformers']}"
      ]
     },
     "execution_count": 10,
     "metadata": {},
     "output_type": "execute_result"
    }
   ],
   "source": [
    "from sklearn.metrics.pairwise import euclidean_distances\n",
    "\n",
    "distance_matrix = euclidean_distances(weights)\n",
    "print(distance_matrix.shape)\n",
    "\n",
    "similar_words = {search_term: [id2word[idx] for idx in distance_matrix[word2id[search_term]-1].argsort()[1:6]+1]\n",
    "                   for search_term in ['deep']}\n",
    "\n",
    "similar_words"
   ]
  },
  {
   "cell_type": "code",
   "execution_count": 11,
   "metadata": {
    "colab": {
     "base_uri": "https://localhost:8080/"
    },
    "executionInfo": {
     "elapsed": 12,
     "status": "ok",
     "timestamp": 1698432992970,
     "user": {
      "displayName": "Ranjeet Kumbhar",
      "userId": "11440510226724121904"
     },
     "user_tz": -330
    },
    "id": "CQyD6E57YgvW",
    "outputId": "37799312-b5eb-4101-9f70-70f9fb21fb1f"
   },
   "outputs": [
    {
     "name": "stdout",
     "output_type": "stream",
     "text": [
      "(74, 74)\n"
     ]
    },
    {
     "data": {
      "text/plain": [
       "{'deep': ['including', 'known', 'programs', 'performance', 'transformers']}"
      ]
     },
     "execution_count": 11,
     "metadata": {},
     "output_type": "execute_result"
    }
   ],
   "source": [
    "# Calculate the Euclidean distances between word embeddings\n",
    "from sklearn.metrics.pairwise import euclidean_distances\n",
    "distance_matrix = euclidean_distances(weights)\n",
    "\n",
    "# Print the shape of the distance matrix\n",
    "print(distance_matrix.shape)\n",
    "\n",
    "# Find similar words for a specific search term, e.g., 'deep'\n",
    "similar_words = {\n",
    "    search_term: [id2word[idx] for idx in distance_matrix[word2id[search_term] - 1].argsort()[1:6] + 1]\n",
    "    for search_term in ['deep']\n",
    "}\n",
    "\n",
    "# Print the similar words for the search term\n",
    "similar_words\n"
   ]
  },
  {
   "cell_type": "code",
   "execution_count": null,
   "metadata": {
    "id": "GHgWTftScYVj"
   },
   "outputs": [],
   "source": []
  }
 ],
 "metadata": {
  "colab": {
   "provenance": []
  },
  "kernelspec": {
   "display_name": "Python 3 (ipykernel)",
   "language": "python",
   "name": "python3"
  },
  "language_info": {
   "codemirror_mode": {
    "name": "ipython",
    "version": 3
   },
   "file_extension": ".py",
   "mimetype": "text/x-python",
   "name": "python",
   "nbconvert_exporter": "python",
   "pygments_lexer": "ipython3",
   "version": "3.11.4"
  }
 },
 "nbformat": 4,
 "nbformat_minor": 1
}
